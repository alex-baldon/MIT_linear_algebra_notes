{
 "cells": [
  {
   "cell_type": "code",
   "execution_count": 125,
   "metadata": {},
   "outputs": [],
   "source": [
    "import sympy as sym\n",
    "sym.init_printing(use_latex=\"mathjax\")"
   ]
  },
  {
   "cell_type": "markdown",
   "metadata": {},
   "source": [
    "<h2><small>Notes from Chapters 1.1, 1.2, 2.1 of </small>Introduction to Linear Algebra <small>by Gilbert Strang </small></h2> \n",
    "<h3><small>Notebook by Alexander Baldon </small></h3>"
   ]
  },
  {
   "cell_type": "markdown",
   "metadata": {},
   "source": [
    "# Vector Addition "
   ]
  },
  {
   "cell_type": "markdown",
   "metadata": {},
   "source": [
    "<p>Lets take a look at how to view a linear system of equeations from different perspectives. We will look at the row picture, column picture, and matrix form of the a <b>system of equations</b> (<i>two equations or more equations where the variables given must saticfy both equations at the same time.</i>)</p>"
   ]
  },
  {
   "cell_type": "markdown",
   "metadata": {},
   "source": [
    "## Row form of a linear system\n",
    "$$Our Equations$$\n",
    "$$ x-2y = -1 $$\n",
    "$$ 2x + y = 3 $$"
   ]
  },
  {
   "cell_type": "markdown",
   "metadata": {},
   "source": [
    "### The question... where do x and y meet (if they do)?\n",
    "### solve the old fasion way, substitution..."
   ]
  },
  {
   "cell_type": "markdown",
   "metadata": {},
   "source": [
    "$$Solve for X$$\n",
    "$$ x-2y = -1 $$\n",
    "$$ => x = 2y-1 $$ \n",
    "\n",
    "$$Substitute$$\n",
    "$$ 2(2y-1)+y = 3 $$\n",
    "\n",
    "$$Simplify$$\n",
    "$$ => 5y-2 = 3 $$\n",
    "$$ => y = 1 $$\n",
    "### and we see:\n",
    "$$ x = y = 1 $$"
   ]
  },
  {
   "cell_type": "code",
   "execution_count": 38,
   "metadata": {},
   "outputs": [
    {
     "data": {
      "image/png": "[encoded data removed]",
      "text/plain": [
       "<Figure size 432x288 with 1 Axes>"
      ]
     },
     "metadata": {
      "needs_background": "light"
     },
     "output_type": "display_data"
    }
   ],
   "source": [
    "# I would like to set the x axis to 1 ,2 , 3 for the ticker \n",
    "%matplotlib inline\n",
    "import numpy as np\n",
    "from matplotlib import pyplot as plt\n",
    "import plotly.graph_objs as go\n",
    "import plotly.plotly as py\n",
    "\n",
    "\n",
    "def q2(x):\n",
    "    return -2*x + 3\n",
    "\n",
    "def q1(x):\n",
    "    return (x + 1)/2\n",
    "\n",
    "# Plot the function\n",
    "\n",
    "\n",
    "\n",
    "# Create an array of x values from 0 to 10\n",
    "x = np.array(range(0, 4)) \n",
    "\n",
    "# Set up the graph\n",
    "plt.xlabel('x')\n",
    "plt.ylabel('y')\n",
    "plt.title('Graph A')\n",
    "plt.grid(linewidth=2)\n",
    "# Plot x against q(x)\n",
    "plt.axhline(color='black', linewidth=3 )\n",
    "plt.axvline(color='black', linewidth=3)\n",
    "plt.plot(q2(x), color='green', linewidth=4.0)\n",
    "plt.plot(q1(x), color='brown', linewidth=4.0)\n",
    "import matplotlib.ticker as plticker\n",
    "\n",
    "plticker.MultipleLocator(base=1.0) # this locator puts ticks at regular intervals\n",
    "\n",
    "\n",
    "plt.show()"
   ]
  },
  {
   "cell_type": "markdown",
   "metadata": {},
   "source": [
    "<p>the systems solution can be visualized in this graph at the intersection $(1, 1)$</p>\n",
    "<p>But now we are going to take this a step further... we are going to keep thinking of the numbers in (1, 1) as vectors... and we will consider their values in a geometric representation...</p>"
   ]
  },
  {
   "cell_type": "markdown",
   "metadata": {},
   "source": [
    "## Column form of a linear system"
   ]
  },
  {
   "cell_type": "markdown",
   "metadata": {},
   "source": [
    "### Here we simply add vector magnitue values scalable by x (in the top row) and the vector magnitue values scalable by y (in the bottom row). "
   ]
  },
  {
   "cell_type": "markdown",
   "metadata": {},
   "source": []
  },
  {
   "cell_type": "code",
   "execution_count": 5,
   "metadata": {},
   "outputs": [],
   "source": [
    "import sympy as sym\n",
    "sym.init_printing()\n",
    "\n",
    "# creating a 2x 2 matrix\n",
    "A = sym.Matrix([1,-2])\n",
    "x1, y1, x2, y2 = sym.symbols('x1, y1, x2, y2')\n",
    "B = sym.Matrix([2, 1])\n",
    "C = sym.Matrix([x1, y1])\n",
    "D = sym.Matrix([x2, y2])"
   ]
  },
  {
   "cell_type": "code",
   "execution_count": 6,
   "metadata": {},
   "outputs": [
    {
     "name": "stdout",
     "output_type": "stream",
     "text": [
      "\n",
      "    <p>Matrix([[1], [-2]])</p>\n",
      "    \n"
     ]
    }
   ],
   "source": [
    "def test():\n",
    "    return \"\"\"\n",
    "    <p>{}</p>\n",
    "    \"\"\".format(A)\n",
    "print(test())"
   ]
  },
  {
   "cell_type": "markdown",
   "metadata": {},
   "source": [
    "It is time to actually add some vectors together. One can visualize by graphing two vectors in ${R}^{2}$ space. You basically change the starting point of one of the vectors, from zero to the tip of the other vector. It doesn’t matter which one you move, to arrive at the same new vector. \n",
    "\n",
    "Note: remember that this new tip is simply the new vector, the distance in the R1 norm it is called. The R2 norm is distance you will recognize as the Pythagoras theorem. That line, the one the looks like the hypotenues, the line going from the start of the virst vecort and ending at the tip of the second vector, that is the distance which we will also expand on in just a moment. \n"
   ]
  },
  {
   "cell_type": "markdown",
   "metadata": {},
   "source": [
    "### Vector addition abstraction "
   ]
  },
  {
   "cell_type": "code",
   "execution_count": 7,
   "metadata": {},
   "outputs": [
    {
     "data": {
      "text/latex": [
       "$\\displaystyle \\left[\\begin{matrix}x_{1}\\\\y_{1}\\end{matrix}\\right]$"
      ],
      "text/plain": [
       "⎡x₁⎤\n",
       "⎢  ⎥\n",
       "⎣y₁⎦"
      ]
     },
     "execution_count": 7,
     "metadata": {},
     "output_type": "execute_result"
    }
   ],
   "source": [
    "C"
   ]
  },
  {
   "cell_type": "code",
   "execution_count": 8,
   "metadata": {},
   "outputs": [
    {
     "data": {
      "text/latex": [
       "$\\displaystyle \\left[\\begin{matrix}x_{2}\\\\y_{2}\\end{matrix}\\right]$"
      ],
      "text/plain": [
       "⎡x₂⎤\n",
       "⎢  ⎥\n",
       "⎣y₂⎦"
      ]
     },
     "execution_count": 8,
     "metadata": {},
     "output_type": "execute_result"
    }
   ],
   "source": [
    "D"
   ]
  },
  {
   "cell_type": "code",
   "execution_count": 9,
   "metadata": {},
   "outputs": [
    {
     "data": {
      "text/latex": [
       "$\\displaystyle \\left[\\begin{matrix}x_{1} + x_{2}\\\\y_{1} + y_{2}\\end{matrix}\\right]$"
      ],
      "text/plain": [
       "⎡x₁ + x₂⎤\n",
       "⎢       ⎥\n",
       "⎣y₁ + y₂⎦"
      ]
     },
     "execution_count": 9,
     "metadata": {},
     "output_type": "execute_result"
    }
   ],
   "source": [
    "E = C + D\n",
    "E"
   ]
  },
  {
   "cell_type": "markdown",
   "metadata": {},
   "source": [
    "## Vector addition example"
   ]
  },
  {
   "cell_type": "code",
   "execution_count": 10,
   "metadata": {},
   "outputs": [
    {
     "data": {
      "text/latex": [
       "$\\displaystyle \\left[\\begin{matrix}1\\\\-2\\end{matrix}\\right]$"
      ],
      "text/plain": [
       "⎡1 ⎤\n",
       "⎢  ⎥\n",
       "⎣-2⎦"
      ]
     },
     "execution_count": 10,
     "metadata": {},
     "output_type": "execute_result"
    }
   ],
   "source": [
    "A"
   ]
  },
  {
   "cell_type": "code",
   "execution_count": 11,
   "metadata": {},
   "outputs": [
    {
     "data": {
      "text/latex": [
       "$\\displaystyle \\left[\\begin{matrix}2\\\\1\\end{matrix}\\right]$"
      ],
      "text/plain": [
       "⎡2⎤\n",
       "⎢ ⎥\n",
       "⎣1⎦"
      ]
     },
     "execution_count": 11,
     "metadata": {},
     "output_type": "execute_result"
    }
   ],
   "source": [
    "B"
   ]
  },
  {
   "cell_type": "code",
   "execution_count": 12,
   "metadata": {},
   "outputs": [
    {
     "data": {
      "text/latex": [
       "$\\displaystyle \\left[\\begin{matrix}3\\\\-1\\end{matrix}\\right]$"
      ],
      "text/plain": [
       "⎡3 ⎤\n",
       "⎢  ⎥\n",
       "⎣-1⎦"
      ]
     },
     "execution_count": 12,
     "metadata": {},
     "output_type": "execute_result"
    }
   ],
   "source": [
    "A + B"
   ]
  },
  {
   "cell_type": "markdown",
   "metadata": {},
   "source": [
    "\n",
    "\n"
   ]
  },
  {
   "cell_type": "code",
   "execution_count": 96,
   "metadata": {},
   "outputs": [
    {
     "data": {
      "image/png": "[encoded data removed]",
      "text/plain": [
       "<Figure size 720x576 with 1 Axes>"
      ]
     },
     "metadata": {
      "needs_background": "light"
     },
     "output_type": "display_data"
    }
   ],
   "source": [
    "import matplotlib.pyplot as plt\n",
    "%matplotlib inline\n",
    "\n",
    "fig, ax = plt.subplots(figsize=(10, 8))\n",
    "# Set the axes through the origin\n",
    "for spine in ['left', 'bottom']:\n",
    "    ax.spines[spine].set_position('zero')\n",
    "for spine in ['right', 'top']:\n",
    "    ax.spines[spine].set_color('none')\n",
    "\n",
    "ax.set(xlim=(-5, 5), ylim=(-5, 5))\n",
    "ax.grid()\n",
    "vecs = ((1, -2), (2, 1), (3, -1))\n",
    "for v in vecs:\n",
    "    xy_cor = (0,0) if (v != (1, -2)) else (2, 1)\n",
    "    color = 'blue' if (v != (3, -1)) else 'green'\n",
    "    v = v if (v != (1, -2)) else (3, -1)\n",
    "    ax.annotate('', xy=v, xytext=xy_cor,\n",
    "                arrowprops=dict(facecolor=color,\n",
    "                shrink=0,\n",
    "                alpha=0.7,\n",
    "                width=4))\n",
    "    ax.text(1.1 * v[0], 1.1 * v[1], str(v))\n",
    "plt.title('Graph B')\n",
    "plt.show()"
   ]
  },
  {
   "cell_type": "markdown",
   "metadata": {},
   "source": [
    "CRITICAL POINT! -- we are seeing a graphical representation of what is happening at the intersection. We have two vecotors, one vector added to one other vector... that is where the (1, 1) point comes from in graph A. It is a geometric representation of the intersection point of the system of equations... "
   ]
  },
  {
   "cell_type": "markdown",
   "metadata": {},
   "source": [
    "ok... back to the system"
   ]
  },
  {
   "cell_type": "markdown",
   "metadata": {},
   "source": [
    "## Matrix form of linear system"
   ]
  },
  {
   "cell_type": "markdown",
   "metadata": {},
   "source": [
    "$$ \n",
    "\\begin{bmatrix} 1 & 2 \\\\ -2 & 1 \\end{bmatrix} \n",
    "|\n",
    "\\begin{bmatrix} x \\\\ y \\end{bmatrix} \n",
    "= \n",
    "\\begin{bmatrix} 3 \\\\ -1 \\end{bmatrix}\n",
    "$$"
   ]
  },
  {
   "cell_type": "markdown",
   "metadata": {},
   "source": []
  },
  {
   "cell_type": "code",
   "execution_count": 103,
   "metadata": {},
   "outputs": [],
   "source": [
    "import sympy as sym\n",
    "sym.init_printing()\n",
    "\n",
    "# creating a 2x 2 matrix\n",
    "A = sym.Matrix([[1, -2],[2,1]])\n",
    "x, y = sym.symbols('x, y')\n",
    "B = sym.Matrix([x, y])\n",
    "C = sym.Matrix([-1, 3])\n",
    "x_y = sym.Matrix([1, 1])"
   ]
  },
  {
   "cell_type": "markdown",
   "metadata": {},
   "source": [
    "## Matrix transformation"
   ]
  },
  {
   "cell_type": "markdown",
   "metadata": {},
   "source": [
    "#### with only scalers (numbers) we can do ... "
   ]
  },
  {
   "cell_type": "markdown",
   "metadata": {},
   "source": [
    "$$ \n",
    "\\begin{equation*}\n",
    "{x}{A} = {b} \n",
    "\\end{equation*}\n",
    "$$"
   ]
  },
  {
   "cell_type": "markdown",
   "metadata": {},
   "source": [
    "$$ \n",
    "\\begin{equation*}\n",
    "{x} = \\frac{b}{A}\n",
    "\\end{equation*}\n",
    "$$"
   ]
  },
  {
   "cell_type": "markdown",
   "metadata": {},
   "source": [
    "$$ \n",
    "\\begin{equation*}\n",
    "{x} = {A}^{-1} {b} \n",
    "\\end{equation*}\n",
    "$$"
   ]
  },
  {
   "cell_type": "markdown",
   "metadata": {},
   "source": [
    "#### we can do the same with Matricies with this concept in mind: Matrix ${A}$ times its invers is always an eye; and multiplying a matrix by an eye yeilds itself\n",
    "<p> ${A}$ is the 'coefficient matrix'"
   ]
  },
  {
   "cell_type": "markdown",
   "metadata": {},
   "source": [
    "$$\n",
    "\\begin{equation*}\n",
    "{A}^{-1}\\times A = \\begin{vmatrix}\n",
    "0 & 1 \\\\\n",
    "1 & 0 \n",
    "\\end{vmatrix}\n",
    "\\end{equation*}\n",
    "$$"
   ]
  },
  {
   "cell_type": "code",
   "execution_count": 102,
   "metadata": {},
   "outputs": [
    {
     "data": {
      "text/latex": [
       "$\\displaystyle \\left[\\begin{matrix}\\frac{1}{5} & \\frac{2}{5}\\\\- \\frac{2}{5} & \\frac{1}{5}\\end{matrix}\\right]$"
      ],
      "text/plain": [
       "⎡1/5   2/5⎤\n",
       "⎢         ⎥\n",
       "⎣-2/5  1/5⎦"
      ]
     },
     "execution_count": 102,
     "metadata": {},
     "output_type": "execute_result"
    }
   ],
   "source": [
    "A_inverse = A.inv()\n",
    "A_inverse"
   ]
  },
  {
   "cell_type": "code",
   "execution_count": 98,
   "metadata": {},
   "outputs": [
    {
     "data": {
      "text/latex": [
       "$\\displaystyle \\left[\\begin{matrix}1 & -2\\\\2 & 1\\end{matrix}\\right]$"
      ],
      "text/plain": [
       "⎡1  -2⎤\n",
       "⎢     ⎥\n",
       "⎣2  1 ⎦"
      ]
     },
     "execution_count": 98,
     "metadata": {},
     "output_type": "execute_result"
    }
   ],
   "source": [
    "A"
   ]
  },
  {
   "cell_type": "code",
   "execution_count": 100,
   "metadata": {},
   "outputs": [
    {
     "data": {
      "text/latex": [
       "$\\displaystyle \\left[\\begin{matrix}1 & 0\\\\0 & 1\\end{matrix}\\right]$"
      ],
      "text/plain": [
       "⎡1  0⎤\n",
       "⎢    ⎥\n",
       "⎣0  1⎦"
      ]
     },
     "execution_count": 100,
     "metadata": {},
     "output_type": "execute_result"
    }
   ],
   "source": [
    "eye = A * A_inverse\n",
    "eye"
   ]
  },
  {
   "cell_type": "code",
   "execution_count": 101,
   "metadata": {},
   "outputs": [
    {
     "data": {
      "text/latex": [
       "$\\displaystyle \\left[\\begin{matrix}1 & -2\\\\2 & 1\\end{matrix}\\right]$"
      ],
      "text/plain": [
       "⎡1  -2⎤\n",
       "⎢     ⎥\n",
       "⎣2  1 ⎦"
      ]
     },
     "execution_count": 101,
     "metadata": {},
     "output_type": "execute_result"
    }
   ],
   "source": [
    "eye * A"
   ]
  },
  {
   "cell_type": "markdown",
   "metadata": {},
   "source": [
    "so... if we multiply both sides by the inverse of a matrix, we can eliminate a matrix from one side of the equation"
   ]
  },
  {
   "cell_type": "markdown",
   "metadata": {},
   "source": [
    "#### multiplying by the inverse, we can find where our x values meet "
   ]
  },
  {
   "cell_type": "markdown",
   "metadata": {},
   "source": [
    "$$ \n",
    "\\begin{equation*}\n",
    "\\begin{vmatrix}\n",
    "x \\\\\n",
    "y\n",
    "\\end{vmatrix}\n",
    "=\n",
    "{A}^{-1}\\times\n",
    "\\begin{vmatrix}\n",
    "-1 \\\\\n",
    "3\n",
    "\\end{vmatrix}\n",
    "\\end{equation*}\n",
    "$$"
   ]
  },
  {
   "cell_type": "markdown",
   "metadata": {},
   "source": []
  },
  {
   "cell_type": "code",
   "execution_count": 107,
   "metadata": {},
   "outputs": [
    {
     "data": {
      "text/latex": [
       "$\\displaystyle \\left[\\begin{matrix}1 & -2\\\\2 & 1\\end{matrix}\\right]$"
      ],
      "text/plain": [
       "⎡1  -2⎤\n",
       "⎢     ⎥\n",
       "⎣2  1 ⎦"
      ]
     },
     "execution_count": 107,
     "metadata": {},
     "output_type": "execute_result"
    }
   ],
   "source": [
    "A"
   ]
  },
  {
   "cell_type": "code",
   "execution_count": 106,
   "metadata": {},
   "outputs": [
    {
     "data": {
      "text/latex": [
       "$\\displaystyle \\left[\\begin{matrix}-1\\\\3\\end{matrix}\\right]$"
      ],
      "text/plain": [
       "⎡-1⎤\n",
       "⎢  ⎥\n",
       "⎣3 ⎦"
      ]
     },
     "execution_count": 106,
     "metadata": {},
     "output_type": "execute_result"
    }
   ],
   "source": [
    "C"
   ]
  },
  {
   "cell_type": "code",
   "execution_count": 88,
   "metadata": {},
   "outputs": [
    {
     "data": {
      "text/latex": [
       "$\\displaystyle \\left[\\begin{matrix}1\\\\1\\end{matrix}\\right]$"
      ],
      "text/plain": [
       "⎡1⎤\n",
       "⎢ ⎥\n",
       "⎣1⎦"
      ]
     },
     "execution_count": 88,
     "metadata": {},
     "output_type": "execute_result"
    }
   ],
   "source": [
    "x_y"
   ]
  },
  {
   "cell_type": "code",
   "execution_count": 93,
   "metadata": {},
   "outputs": [
    {
     "data": {
      "text/latex": [
       "$\\displaystyle \\left[\\begin{matrix}1\\\\1\\end{matrix}\\right]$"
      ],
      "text/plain": [
       "⎡1⎤\n",
       "⎢ ⎥\n",
       "⎣1⎦"
      ]
     },
     "execution_count": 93,
     "metadata": {},
     "output_type": "execute_result"
    }
   ],
   "source": [
    "A_inverse * C"
   ]
  },
  {
   "cell_type": "markdown",
   "metadata": {},
   "source": [
    "### A note on inversion: not all matrices can be inverted"
   ]
  },
  {
   "cell_type": "markdown",
   "metadata": {},
   "source": [
    "A square matrix that is not invertible is called singular or degenerate. A square matrix is singular if and only if its determinant is 0.\n",
    "\n",
    "### A note on multiplication of matrices\n",
    "A 3 by 2 matrix A times a 2 by 3 matrix B\n",
    "equals a 3 by 3 matrix AB. In order to multiply two matrices, the\n",
    "number of columns of A must equal the number of rows of B. The product\n",
    "AB will have the same number of rows as the first matrix and the same\n",
    "number of columns as the second:\n",
    "\n",
    "A(m by n) times B(n by p) equals AB(m by p)."
   ]
  },
  {
   "cell_type": "markdown",
   "metadata": {},
   "source": [
    "# Dot Products "
   ]
  },
  {
   "cell_type": "markdown",
   "metadata": {},
   "source": [
    "to get the dot product, multiply the vectors attributes with those in common positions, then add the products together. "
   ]
  },
  {
   "cell_type": "markdown",
   "metadata": {},
   "source": []
  },
  {
   "cell_type": "markdown",
   "metadata": {},
   "source": [
    "$$\n",
    "\\begin{vmatrix}\n",
    "4 \\\\\n",
    "2\n",
    "\\end{vmatrix}\n",
    "\\cdot\n",
    "\\begin{vmatrix}\n",
    "-1 \\\\\n",
    "2\n",
    "\\end{vmatrix}\n",
    "$$"
   ]
  },
  {
   "cell_type": "markdown",
   "metadata": {},
   "source": [
    "$$\n",
    "\\begin{equation*} \n",
    "{-4} + {4} ={0}\n",
    "\\end{equation*}\n",
    "$$"
   ]
  },
  {
   "cell_type": "markdown",
   "metadata": {},
   "source": [
    "This one is zero, which happens to mean that they are perpendicular vectors"
   ]
  },
  {
   "cell_type": "markdown",
   "metadata": {},
   "source": [
    "Examples: \n",
    "\n",
    "Physical balance...\n",
    "you can visualize one vector as a weight, and the other vecotor as the point at which the weight will be placed. The it is balanced, if the weight is distributed, then when you add together the weights at each end they will cancel eachother out.\n",
    "\n",
    "____\n",
    "\n",
    "Trade balance...\n",
    "Imagin one vector or sales, one vector of purchases. Balanced books would mean 0 profit, 0 loss. \n"
   ]
  },
  {
   "cell_type": "code",
   "execution_count": 65,
   "metadata": {},
   "outputs": [
    {
     "data": {
      "image/png": "[encoded data removed]",
      "text/plain": [
       "<Figure size 720x576 with 1 Axes>"
      ]
     },
     "metadata": {
      "needs_background": "light"
     },
     "output_type": "display_data"
    }
   ],
   "source": [
    "import matplotlib.pyplot as plt\n",
    "%matplotlib inline\n",
    "\n",
    "fig, ax = plt.subplots(figsize=(10, 8))\n",
    "# Set the axes through the origin\n",
    "for spine in ['left', 'bottom']:\n",
    "    ax.spines[spine].set_position('zero')\n",
    "for spine in ['right', 'top']:\n",
    "    ax.spines[spine].set_color('none')\n",
    "v1 = (4, 2)\n",
    "v2 = (-1, 2)\n",
    "ax.set(xlim=(-5, 5), ylim=(-5, 5))\n",
    "ax.grid()\n",
    "vecs = (v1, v2)\n",
    "for v in vecs:\n",
    "    ax.annotate('', xy=v, xytext=xy_cor,\n",
    "                arrowprops=dict(facecolor=color,\n",
    "                shrink=0,\n",
    "                alpha=0.7,\n",
    "                width=4))\n",
    "    ax.text(1.1 * v[0], 1.1 * v[1], str(v))\n",
    "plt.title('Graph B')\n",
    "plt.show()"
   ]
  },
  {
   "cell_type": "markdown",
   "metadata": {},
   "source": [
    "## Lengths "
   ]
  },
  {
   "cell_type": "markdown",
   "metadata": {},
   "source": [
    "$$\n",
    "||\\vec{V}||=\\sqrt{\\vec{V}\\cdot\\vec{V}}\n",
    "$$"
   ]
  },
  {
   "cell_type": "markdown",
   "metadata": {},
   "source": [
    "## Unit vectors "
   ]
  },
  {
   "cell_type": "markdown",
   "metadata": {},
   "source": [
    "A Unit vector is a vecoter whose length equals 1... and so "
   ]
  },
  {
   "cell_type": "markdown",
   "metadata": {},
   "source": [
    "$\\vec{u}\\cdot\\vec{u} = 1 $"
   ]
  },
  {
   "cell_type": "markdown",
   "metadata": {},
   "source": [
    "remember your unit circle coordinates.."
   ]
  },
  {
   "cell_type": "markdown",
   "metadata": {},
   "source": [
    "$ u = \\frac{\\cos}{\\sin} $"
   ]
  },
  {
   "cell_type": "markdown",
   "metadata": {},
   "source": [
    "a unit vector in the same direction as a given vector is..."
   ]
  },
  {
   "cell_type": "markdown",
   "metadata": {},
   "source": [
    "$ \\vec{u} = \\vec{v}\\div||\\vec{v}|| $"
   ]
  },
  {
   "cell_type": "code",
   "execution_count": 101,
   "metadata": {},
   "outputs": [
    {
     "data": {
      "text/latex": [
       "$\\displaystyle \\left[\\begin{matrix}1\\\\1\\end{matrix}\\right]$"
      ],
      "text/plain": [
       "⎡1⎤\n",
       "⎢ ⎥\n",
       "⎣1⎦"
      ]
     },
     "execution_count": 101,
     "metadata": {},
     "output_type": "execute_result"
    }
   ],
   "source": [
    "V = sym.Matrix([1, 1])\n",
    "V"
   ]
  },
  {
   "cell_type": "code",
   "execution_count": 102,
   "metadata": {},
   "outputs": [
    {
     "data": {
      "text/latex": [
       "$\\displaystyle \\sqrt{2}$"
      ],
      "text/plain": [
       "√2"
      ]
     },
     "execution_count": 102,
     "metadata": {},
     "output_type": "execute_result"
    }
   ],
   "source": [
    "V_norm = V.norm() \n",
    "V_norm"
   ]
  },
  {
   "cell_type": "markdown",
   "metadata": {},
   "source": [
    "remember that is the square root of ${V}_{1} $ (1 squared) plus ${V}_{2} $ (1 squared) "
   ]
  },
  {
   "cell_type": "code",
   "execution_count": 103,
   "metadata": {},
   "outputs": [
    {
     "data": {
      "text/latex": [
       "$\\displaystyle \\left[\\begin{matrix}0.707106781186547\\\\0.707106781186547\\end{matrix}\\right]$"
      ],
      "text/plain": [
       "⎡0.707106781186547⎤\n",
       "⎢                 ⎥\n",
       "⎣0.707106781186547⎦"
      ]
     },
     "execution_count": 103,
     "metadata": {},
     "output_type": "execute_result"
    }
   ],
   "source": [
    "from math import sqrt\n",
    "V / sqrt(2)"
   ]
  },
  {
   "cell_type": "markdown",
   "metadata": {},
   "source": [
    "### Cosine Formula "
   ]
  },
  {
   "cell_type": "markdown",
   "metadata": {},
   "source": [
    "$\n",
    "\\vec{v}\\cdot\\vec{w}\\div\\||\\vec{v}|| \\times || \\vec{w} ||\n",
    "$"
   ]
  },
  {
   "cell_type": "markdown",
   "metadata": {},
   "source": [
    "The output never exceeds 1 "
   ]
  },
  {
   "cell_type": "code",
   "execution_count": 129,
   "metadata": {},
   "outputs": [
    {
     "name": "stdout",
     "output_type": "stream",
     "text": [
      "creating vector V [2, 1], and vector w [1, 2]\n"
     ]
    }
   ],
   "source": [
    "v = sym.Matrix([2, 1])\n",
    "w = sym.Matrix([1, 2])\n",
    "print(\"creating vector V {}, and vector w {}\".format(v.values(), w.values()))"
   ]
  },
  {
   "cell_type": "markdown",
   "metadata": {},
   "source": [
    "We can find the cos through this method..."
   ]
  },
  {
   "cell_type": "code",
   "execution_count": 132,
   "metadata": {},
   "outputs": [
    {
     "data": {
      "text/latex": [
       "$\\displaystyle \\frac{4}{5}$"
      ],
      "text/plain": [
       "4/5"
      ]
     },
     "execution_count": 132,
     "metadata": {},
     "output_type": "execute_result"
    }
   ],
   "source": [
    "v.dot(w) / (v.norm() * w.norm())"
   ]
  }
 ],
 "metadata": {
  "kernelspec": {
   "display_name": "Python 3",
   "language": "python",
   "name": "python3"
  },
  "language_info": {
   "codemirror_mode": {
    "name": "ipython",
    "version": 3
   },
   "file_extension": ".py",
   "mimetype": "text/x-python",
   "name": "python",
   "nbconvert_exporter": "python",
   "pygments_lexer": "ipython3",
   "version": "3.7.1"
  }
 },
 "nbformat": 4,
 "nbformat_minor": 2
}
