{
 "cells": [
  {
   "cell_type": "markdown",
   "metadata": {},
   "source": [
    "If the matrix A is invertible, we can multiply on both sides by\n",
    "A−1 to find the unique solution x to Ax = b. We might say that A represents a\n",
    "transform x → b that has an inverse transform b x."
   ]
  },
  {
   "cell_type": "markdown",
   "metadata": {},
   "source": [
    "A vector space is a collection of vectors that is closed under linear combinations. A subspace is a vector space inside another vector space; \n"
   ]
  },
  {
   "cell_type": "markdown",
   "metadata": {},
   "source": [
    "A basis for Rn is a collection of n independent vectors in Rn"
   ]
  },
  {
   "cell_type": "markdown",
   "metadata": {},
   "source": [
    "The subspaces of R3 are:\n",
    "\n",
    "* the origin,\n",
    "* a line through the origin,\n",
    "* a plane through the origin,\n",
    "\n",
    "all of R3 • .\n"
   ]
  },
  {
   "cell_type": "markdown",
   "metadata": {},
   "source": [
    "## Conclusion\n",
    "\n",
    "When you look at a matrix, try to see “what is it doing?”\n",
    "\n",
    "___\n"
   ]
  },
  {
   "cell_type": "markdown",
   "metadata": {},
   "source": [
    "NOTE: on rectangular matrices\n",
    "    \n",
    "Matrices can be rectangular; we can have seven equations in three unknowns. Rectangular matrices are not invertible, but the symmetric, square\n",
    "matrix ATA that often appears when studying rectangular matrices may be\n",
    "invertible. "
   ]
  },
  {
   "cell_type": "code",
   "execution_count": null,
   "metadata": {},
   "outputs": [],
   "source": []
  }
 ],
 "metadata": {
  "kernelspec": {
   "display_name": "Python 3",
   "language": "python",
   "name": "python3"
  },
  "language_info": {
   "codemirror_mode": {
    "name": "ipython",
    "version": 3
   },
   "file_extension": ".py",
   "mimetype": "text/x-python",
   "name": "python",
   "nbconvert_exporter": "python",
   "pygments_lexer": "ipython3",
   "version": "3.7.1"
  }
 },
 "nbformat": 4,
 "nbformat_minor": 2
}
