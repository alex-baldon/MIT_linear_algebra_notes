{
 "cells": [
  {
   "cell_type": "markdown",
   "metadata": {},
   "source": [
    "\n",
    "## Lecture notes\n",
    "\n",
    "### Inversion: \n",
    "\n",
    "If the matrix A is invertible, we can multiply on both sides by\n",
    "A−1 to find the unique solution x to Ax = b. We might say that A represents a\n",
    "transform x → b that has an inverse transform b x."
   ]
  },
  {
   "cell_type": "markdown",
   "metadata": {},
   "source": [
    "### Vector Space & Subspace \n",
    "\n",
    "A vector space is a collection of vectors that is closed under linear combinations. A subspace is a vector space inside another vector space; \n"
   ]
  },
  {
   "cell_type": "markdown",
   "metadata": {},
   "source": [
    "A basis for Rn is a collection of n independent vectors in Rn"
   ]
  },
  {
   "cell_type": "markdown",
   "metadata": {},
   "source": [
    "The subspaces of R3 are:\n",
    "\n",
    "* the origin,\n",
    "* a line through the origin,\n",
    "* a plane through the origin,"
   ]
  },
  {
   "cell_type": "markdown",
   "metadata": {},
   "source": [
    "## Book Notes\n",
    "#### Chapter 1.3"
   ]
  },
  {
   "cell_type": "markdown",
   "metadata": {},
   "source": [
    "### Matrices "
   ]
  },
  {
   "cell_type": "markdown",
   "metadata": {},
   "source": [
    "${m}$ denotes rows    | components in matrix\n",
    "\n",
    "${n}$ denotes columns | vectors in matrix\n",
    "\n",
    "Matrix C below: m = 3, n = 2"
   ]
  },
  {
   "cell_type": "code",
   "execution_count": 21,
   "metadata": {},
   "outputs": [
    {
     "data": {
      "text/latex": [
       "$\\displaystyle \\left[\\begin{matrix}-1 & 3\\\\4 & 6\\\\6 & 3\\end{matrix}\\right]$"
      ],
      "text/plain": [
       "Matrix([\n",
       "[-1, 3],\n",
       "[ 4, 6],\n",
       "[ 6, 3]])"
      ]
     },
     "execution_count": 21,
     "metadata": {},
     "output_type": "execute_result"
    }
   ],
   "source": [
    "import sympy as sym\n",
    "C = sym.Matrix([[-1, 3], [4, 6], [6, 3]])\n",
    "C"
   ]
  },
  {
   "cell_type": "markdown",
   "metadata": {},
   "source": [
    "#### The matrix ${A}$ acts on The vector ${x}$\n",
    "\n",
    "When we say x1u + x2v + x3w = b we’re thinking about multiplying numbers by vectors; when we say Ax = b we’re thinking about multiplying a\n",
    "matrix (whose columns are u, v and w) by the numbers. "
   ]
  },
  {
   "cell_type": "code",
   "execution_count": 52,
   "metadata": {},
   "outputs": [
    {
     "data": {
      "text/latex": [
       "$\\displaystyle \\left[\\begin{matrix}1 & 0 & 0\\\\-1 & 1 & 0\\\\0 & -1 & 1\\end{matrix}\\right]$"
      ],
      "text/plain": [
       "Matrix([\n",
       "[ 1,  0, 0],\n",
       "[-1,  1, 0],\n",
       "[ 0, -1, 1]])"
      ]
     },
     "execution_count": 52,
     "metadata": {},
     "output_type": "execute_result"
    }
   ],
   "source": [
    "# creating our difference matrix\n",
    "A = sym.Matrix([[1, 0, 0], [-1, 1, 0], [0, -1, 1]])\n",
    "A"
   ]
  },
  {
   "cell_type": "code",
   "execution_count": 53,
   "metadata": {},
   "outputs": [
    {
     "data": {
      "text/latex": [
       "$\\displaystyle \\left[\\begin{matrix}x_{1}\\\\x_{2}\\\\x_{3}\\end{matrix}\\right]$"
      ],
      "text/plain": [
       "Matrix([\n",
       "[x1],\n",
       "[x2],\n",
       "[x3]])"
      ]
     },
     "execution_count": 53,
     "metadata": {},
     "output_type": "execute_result"
    }
   ],
   "source": [
    "# our input vector x\n",
    "x1, x2, x3 = sym.symbols('x1, x2, x3') \n",
    "x = sym.Matrix([x1, x2, x3])\n",
    "x"
   ]
  },
  {
   "cell_type": "code",
   "execution_count": 59,
   "metadata": {},
   "outputs": [
    {
     "data": {
      "text/latex": [
       "$\\displaystyle \\left[\\begin{matrix}x_{1}\\\\- x_{1} + x_{2}\\\\- x_{2} + x_{3}\\end{matrix}\\right]$"
      ],
      "text/plain": [
       "Matrix([\n",
       "[      x1],\n",
       "[-x1 + x2],\n",
       "[-x2 + x3]])"
      ]
     },
     "execution_count": 59,
     "metadata": {},
     "output_type": "execute_result"
    }
   ],
   "source": [
    "# note that x * A would not work due to size\n",
    "\n",
    "# we see here, is is only A acting upon x, the input vector, yeilding in this case the difference between inputs. \n",
    "# This view of processing is key\n",
    "A * x"
   ]
  },
  {
   "cell_type": "markdown",
   "metadata": {},
   "source": [
    "### Linear equations & The Inverse Matrix "
   ]
  },
  {
   "cell_type": "markdown",
   "metadata": {},
   "source": [
    "using invers to solve for b in Ax = b ( covered in precvious notes: geometry of linear equeations) "
   ]
  },
  {
   "cell_type": "markdown",
   "metadata": {},
   "source": [
    "### Cyclic differences"
   ]
  },
  {
   "cell_type": "code",
   "execution_count": 77,
   "metadata": {},
   "outputs": [
    {
     "data": {
      "text/latex": [
       "$\\displaystyle \\left[\\begin{matrix}0\\\\0\\\\0\\end{matrix}\\right]$"
      ],
      "text/plain": [
       "Matrix([\n",
       "[0],\n",
       "[0],\n",
       "[0]])"
      ]
     },
     "execution_count": 77,
     "metadata": {},
     "output_type": "execute_result"
    }
   ],
   "source": [
    "# vectors that compose a cyclic matrix \n",
    "u = sym.Matrix([1, -1, 0])\n",
    "v  = sym.Matrix([0, 1, -1])\n",
    "w = sym.Matrix([-1, 0, 1])\n",
    "u + v + w"
   ]
  },
  {
   "cell_type": "markdown",
   "metadata": {},
   "source": [
    "they have infinitely many solutions( sometimes ) or else no solution ( usually ) "
   ]
  },
  {
   "cell_type": "markdown",
   "metadata": {},
   "source": [
    "### Independence and Dependence"
   ]
  },
  {
   "cell_type": "markdown",
   "metadata": {},
   "source": [
    "consider the vectors $\\vec{u} + \\vec{v} + \\vec{w} = \\vec{b}$ | where $\\vec{b} = 0$ \n",
    "* Independence: w is not in the plane of u and v \n",
    "* DependenceL w in in the plane of u and v \n",
    "\n",
    "* u, v, w are independent if no combination except $0\\vec{u} + 0\\vec{v} + 0\\vec{w} $ gives $\\vec{b} = 0$ \n",
    "* u, v, w are dependent if Other combinations like $\\vec{u} + \\vec{v} + \\vec{w} $| give $\\vec{b} = 0$ \n",
    "\n",
    "---\n",
    "\n",
    "* $ Ax = 0 $ has one solution. A is an invertible matrix\n",
    "* $ Cx = 0 $ has many solutions. C is a singular matrix  - its three columns lay one the same plane"
   ]
  },
  {
   "cell_type": "markdown",
   "metadata": {},
   "source": [
    "## Conclusion\n",
    "\n",
    "When you look at a matrix, try to see “what is it doing?”\n",
    "\n",
    "___\n"
   ]
  },
  {
   "cell_type": "markdown",
   "metadata": {},
   "source": [
    "NOTE: on rectangular matrices\n",
    "    \n",
    "Matrices can be rectangular; we can have seven equations in three unknowns. Rectangular matrices are not invertible, but the symmetric, square\n",
    "matrix ATA that often appears when studying rectangular matrices may be\n",
    "invertible. "
   ]
  },
  {
   "cell_type": "code",
   "execution_count": null,
   "metadata": {},
   "outputs": [],
   "source": []
  }
 ],
 "metadata": {
  "kernelspec": {
   "display_name": "Python 3",
   "language": "python",
   "name": "python3"
  },
  "language_info": {
   "codemirror_mode": {
    "name": "ipython",
    "version": 3
   },
   "file_extension": ".py",
   "mimetype": "text/x-python",
   "name": "python",
   "nbconvert_exporter": "python",
   "pygments_lexer": "ipython3",
   "version": "3.7.1"
  }
 },
 "nbformat": 4,
 "nbformat_minor": 2
}
